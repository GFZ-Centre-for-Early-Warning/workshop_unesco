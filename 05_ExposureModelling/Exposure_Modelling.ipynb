{
 "cells": [
  {
   "cell_type": "markdown",
   "metadata": {},
   "source": [
    " ![logo][gfzlogo]\n",
    " \n",
    " #   ENHANS -   Exposure modelling Workshop   -  May 2017\n",
    " \n",
    " ---\n",
    " \n",
    " \n",
    " ## 5.2 - Exposure Modelling\n",
    " \n",
    " \n",
    " ---\n",
    "\n",
    " \n",
    "\n",
    "\n",
    "[gfzlogo]:gfz_logo2.jpg"
   ]
  },
  {
   "cell_type": "markdown",
   "metadata": {},
   "source": [
    "## language: Python 2.7\n",
    "\n",
    "### first: Load packages"
   ]
  },
  {
   "cell_type": "code",
   "execution_count": 3,
   "metadata": {
    "collapsed": true
   },
   "outputs": [],
   "source": [
    "import sys\n",
    "import os\n",
    "import pandas as pd\n",
    "import numpy as np\n",
    "from string import Template\n",
    "import matplotlib.pyplot as plt\n",
    "%matplotlib inline\n",
    "#from lxml import etree\n",
    "from sqlalchemy import create_engine\n",
    "from sqlalchemy.sql import text\n",
    "\n",
    "#used by the nrml \n",
    "NAMESPACE = 'http://openquake.org/xmlns/nrml/0.5'\n",
    "GML_NAMESPACE = 'http://www.opengis.net/gml'\n",
    "SERIALIZE_NS_MAP = {None: NAMESPACE, 'gml': GML_NAMESPACE}\n"
   ]
  },
  {
   "cell_type": "markdown",
   "metadata": {},
   "source": [
    "# Query of building data from the database\n",
    "\n",
    "the data is fetched from the database (either local or from remote) using a SQL query. \n",
    "\n",
    "In our case we retrieve the following information:\n",
    "\n",
    "- latitude (of the centroid of the building)\n",
    "- longitude (of the centroid of the building)\n",
    "- ID of the building (same as used in the RRVS interface)\n",
    "- Building type (estimated)\n",
    "\n",
    "We suppose that the building type has therefore already been assigned in a previous processing phase \n",
    "\n",
    "##Exercise\n",
    "- Are we querying all available data?"
   ]
  },
  {
   "cell_type": "code",
   "execution_count": 3,
   "metadata": {
    "collapsed": true
   },
   "outputs": [],
   "source": [
    "# database connection\n",
    "engine = create_engine('postgresql://postgres@localhost:5432/rem')\n",
    "\n",
    "# query to the database\n",
    "def get_proc_expo(engine,tablename):\n",
    "    \n",
    "    sql = \"\"\"\n",
    "    select \n",
    "    st_x(st_transform(st_centroid(v.the_geom),4326)) lon,\n",
    "    st_y(st_transform(st_centroid(v.the_geom),4326)) lat,\n",
    "    v.gid,\n",
    "    v.btype\n",
    "    from {} v;\"\"\".format(tablename)\n",
    "\n",
    "    t=pd.read_sql_query(sql,con=engine)\n",
    "    return t\n",
    "\n",
    "#test\n",
    "tt = get_proc_expo(engine,'proc_expo')"
   ]
  },
  {
   "cell_type": "markdown",
   "metadata": {},
   "source": [
    "## Let us model the building frequencies with a Dirichelet / multinomial distribution"
   ]
  },
  {
   "cell_type": "code",
   "execution_count": 21,
   "metadata": {},
   "outputs": [
    {
     "data": {
      "text/html": [
       "<div>\n",
       "<table border=\"1\" class=\"dataframe\">\n",
       "  <thead>\n",
       "    <tr style=\"text-align: right;\">\n",
       "      <th></th>\n",
       "      <th>0</th>\n",
       "      <th>1</th>\n",
       "      <th>2</th>\n",
       "    </tr>\n",
       "  </thead>\n",
       "  <tbody>\n",
       "    <tr>\n",
       "      <th>0</th>\n",
       "      <td>0.999139</td>\n",
       "      <td>1.425033e-34</td>\n",
       "      <td>8.610567e-04</td>\n",
       "    </tr>\n",
       "    <tr>\n",
       "      <th>1</th>\n",
       "      <td>0.997062</td>\n",
       "      <td>2.539511e-09</td>\n",
       "      <td>2.937578e-03</td>\n",
       "    </tr>\n",
       "    <tr>\n",
       "      <th>2</th>\n",
       "      <td>0.605848</td>\n",
       "      <td>1.061161e-05</td>\n",
       "      <td>3.941418e-01</td>\n",
       "    </tr>\n",
       "    <tr>\n",
       "      <th>3</th>\n",
       "      <td>0.999272</td>\n",
       "      <td>7.277248e-04</td>\n",
       "      <td>7.403025e-14</td>\n",
       "    </tr>\n",
       "    <tr>\n",
       "      <th>4</th>\n",
       "      <td>0.999886</td>\n",
       "      <td>6.259159e-24</td>\n",
       "      <td>1.138712e-04</td>\n",
       "    </tr>\n",
       "  </tbody>\n",
       "</table>\n",
       "</div>"
      ],
      "text/plain": [
       "          0             1             2\n",
       "0  0.999139  1.425033e-34  8.610567e-04\n",
       "1  0.997062  2.539511e-09  2.937578e-03\n",
       "2  0.605848  1.061161e-05  3.941418e-01\n",
       "3  0.999272  7.277248e-04  7.403025e-14\n",
       "4  0.999886  6.259159e-24  1.138712e-04"
      ]
     },
     "execution_count": 21,
     "metadata": {},
     "output_type": "execute_result"
    }
   ],
   "source": [
    "# available building types\n",
    "btypes = tt['btype'].unique()\n",
    "\n",
    "#observed frequencies\n",
    "bdist = tt['btype'].value_counts()/len(tt['btype'])\n",
    "\n",
    "shape = np.array(bdist).astype(float)\n",
    "\n",
    "# concentration parameter\n",
    "con_par=3\n",
    "\n",
    "# simulation of a Dirichlet process\n",
    "out = pd.DataFrame(np.random.dirichlet(shape*con_par,10000))\n",
    "\n",
    "#let´s have a look at some of the simulated distributions\n",
    "out.head()"
   ]
  },
  {
   "cell_type": "code",
   "execution_count": 13,
   "metadata": {
    "collapsed": true
   },
   "outputs": [],
   "source": [
    "#let´s define the average occupancy per building type\n",
    "\n",
    "occ={}\n",
    "occ['MUR1'] = 10\n",
    "occ['WOOD1']=7\n",
    "occ['RC1'] = 20"
   ]
  },
  {
   "cell_type": "code",
   "execution_count": 15,
   "metadata": {
    "collapsed": true
   },
   "outputs": [],
   "source": [
    "# let us define the total population in the considered area\n",
    "pop = 5000"
   ]
  },
  {
   "cell_type": "markdown",
   "metadata": {},
   "source": [
    "## define a function which is carrying out the disaggregation with a stochastic simulation"
   ]
  },
  {
   "cell_type": "code",
   "execution_count": 40,
   "metadata": {
    "collapsed": true
   },
   "outputs": [],
   "source": [
    "def estimate_bdg_num_dirichlet(pop,bdist,con_par = 11):\n",
    "    shape = np.array(bdist).astype(float)\n",
    "    \n",
    "    #simulate dirichlet distrib. on the cell\n",
    "    out = pd.DataFrame(np.random.dirichlet(shape*con_par,10000))\n",
    "    \n",
    "    out.columns = btypes\n",
    "    occs = [occ[tax] for tax in btypes]\n",
    "\n",
    "    nb=[]\n",
    "    for ind, row in out.iterrows():\n",
    "        nb.append(pop/sum(np.array(occs)*np.array(row)))\n",
    "        #nb.append(pop/sum(np.array(row.iloc[0])*occs))\n",
    "        \n",
    "    return pd.DataFrame([[int(np.average(nb)),int(np.std(nb)),int(np.min(nb)),int(np.max(nb)),\n",
    "int(np.percentile(nb,5)),int(np.percentile(nb,50)),int(np.percentile(nb,95))]],columns=['avg','stddev','min','max','q5','q50','q95'])\n",
    "\n",
    "\n",
    "#test\n",
    "#estimate_bdg_num_dirichlet(pop,bdist,3)"
   ]
  },
  {
   "cell_type": "markdown",
   "metadata": {},
   "source": [
    "## now we can compute the expected number of buildings in a probabilistic framework"
   ]
  },
  {
   "cell_type": "code",
   "execution_count": 38,
   "metadata": {},
   "outputs": [
    {
     "name": "stdout",
     "output_type": "stream",
     "text": [
      "   avg  stddev  min  max   q5  q50  q95\n",
      "0  496      23  277  672  462  500  509\n"
     ]
    }
   ],
   "source": [
    "res = estimate_bdg_num_dirichlet(pop,bdist,3)\n",
    "print res\n"
   ]
  },
  {
   "cell_type": "code",
   "execution_count": 39,
   "metadata": {},
   "outputs": [
    {
     "data": {
      "text/plain": [
       "(array([   28.,   221.,   821.,  2042.,  2883.,  2480.,  1174.,   297.,\n",
       "           49.,     5.]),\n",
       " array([ 414.98991773,  432.35576044,  449.72160316,  467.08744587,\n",
       "         484.45328858,  501.8191313 ,  519.18497401,  536.55081672,\n",
       "         553.91665944,  571.28250215,  588.64834487]),\n",
       " <a list of 10 Patch objects>)"
      ]
     },
     "execution_count": 39,
     "metadata": {},
     "output_type": "execute_result"
    },
    {
     "data": {
      "image/png": "[encoded data removed]",
      "text/plain": [
       "<matplotlib.figure.Figure at 0x512b850>"
      ]
     },
     "metadata": {},
     "output_type": "display_data"
    }
   ],
   "source": [
    "plt.hist(np.random.normal(res['avg'],res['stddev'],10000))"
   ]
  },
  {
   "cell_type": "markdown",
   "metadata": {},
   "source": [
    "---\n",
    "\n",
    "---"
   ]
  },
  {
   "cell_type": "markdown",
   "metadata": {},
   "source": [
    "# Using boundary data\n",
    "\n",
    "Boundary data provide a geographical support for aggregating the exposure model.\n",
    "\n",
    "Boundary data can be:\n",
    "- geographical (e.g. a continent, an isle)\n",
    "- administrative (e.g. political borders, regions, districts, postal codes)\n",
    "- abstract (geocell, regular grids)\n",
    "\n",
    "Moreover, boundary data can nest into each other, therefore providing a natural multi-resolution support.\n",
    "\n",
    "###How do we manage multiple boundary data in exposure modelling ?"
   ]
  },
  {
   "cell_type": "code",
   "execution_count": 10,
   "metadata": {},
   "outputs": [],
   "source": [
    "# database connection\n",
    "engine = create_engine('postgresql://postgres@localhost:5432/rem')\n",
    "\n",
    "# query to the database, also include a list of table names specifying different boundary data layers.\n",
    "# each boundary layer must include a geometry the_geom, a name name_en and an id object_id. \n",
    "def get_exp_bd(engine, tablename,boundaries):\n",
    "    \n",
    "    boundaries_pa=''\n",
    "    boundaries_pb=''\n",
    "    boundaries_pc=''\n",
    "    \n",
    "    for i,b in enumerate(boundaries):\n",
    "        boundaries_pa += 'b{}.object_name name_b{},b{}.object_id id_b{},'.format(i,i,i,i)\n",
    "        boundaries_pb += '{} b{},'.format(b,i)\n",
    "        boundaries_pc += ' st_contains(b{}.the_geom,st_centroid(v.the_geom)) and'.format(i)\n",
    "    \n",
    "    sql = \"\"\"\n",
    "    select \n",
    "    st_x(st_transform(st_centroid(v.the_geom),4326)) lon,\n",
    "    st_y(st_transform(st_centroid(v.the_geom),4326)) lat,\n",
    "    v.the_geom,\n",
    "    v.gid,\n",
    "    v.btype,\n",
    "    {}\n",
    "    from {} v, {} \n",
    "    where {}; \"\"\".format(boundaries_pa[:-1],tablename,boundaries_pb[:-1],boundaries_pc[:-3])\n",
    "    \n",
    "    #print sql\n",
    "    \n",
    "    t=pd.read_sql_query(sql,con=engine)\n",
    "    return t\n",
    "\n",
    "#test\n",
    "tt = get_exp_bd(engine,'proc_expo',['santiago_vir2_0','santiago_vir2'])"
   ]
  },
  {
   "cell_type": "markdown",
   "metadata": {},
   "source": [
    "##Let us check how many different entries are present in each aggregation boundary. "
   ]
  },
  {
   "cell_type": "code",
   "execution_count": 11,
   "metadata": {},
   "outputs": [
    {
     "data": {
      "text/html": [
       "<div>\n",
       "<style>\n",
       "    .dataframe thead tr:only-child th {\n",
       "        text-align: right;\n",
       "    }\n",
       "\n",
       "    .dataframe thead th {\n",
       "        text-align: left;\n",
       "    }\n",
       "\n",
       "    .dataframe tbody tr th {\n",
       "        vertical-align: top;\n",
       "    }\n",
       "</style>\n",
       "<table border=\"1\" class=\"dataframe\">\n",
       "  <thead>\n",
       "    <tr style=\"text-align: right;\">\n",
       "      <th></th>\n",
       "      <th>lon</th>\n",
       "      <th>lat</th>\n",
       "      <th>the_geom</th>\n",
       "      <th>gid</th>\n",
       "      <th>btype</th>\n",
       "      <th>name_b0</th>\n",
       "      <th>id_b0</th>\n",
       "      <th>name_b1</th>\n",
       "      <th>id_b1</th>\n",
       "    </tr>\n",
       "  </thead>\n",
       "  <tbody>\n",
       "    <tr>\n",
       "      <th>0</th>\n",
       "      <td>-70.603429</td>\n",
       "      <td>-33.433007</td>\n",
       "      <td>0106000020E61000000100000001030000000100000005...</td>\n",
       "      <td>87975</td>\n",
       "      <td>RC1</td>\n",
       "      <td>santiago_metro</td>\n",
       "      <td>0</td>\n",
       "      <td>Providencia</td>\n",
       "      <td>28</td>\n",
       "    </tr>\n",
       "    <tr>\n",
       "      <th>1</th>\n",
       "      <td>-70.607311</td>\n",
       "      <td>-33.431156</td>\n",
       "      <td>0106000020E61000000100000001030000000100000007...</td>\n",
       "      <td>88686</td>\n",
       "      <td>MUR1</td>\n",
       "      <td>santiago_metro</td>\n",
       "      <td>0</td>\n",
       "      <td>Providencia</td>\n",
       "      <td>28</td>\n",
       "    </tr>\n",
       "    <tr>\n",
       "      <th>2</th>\n",
       "      <td>-70.598028</td>\n",
       "      <td>-33.431335</td>\n",
       "      <td>0106000020E61000000100000001030000000100000005...</td>\n",
       "      <td>86075</td>\n",
       "      <td>RC1</td>\n",
       "      <td>santiago_metro</td>\n",
       "      <td>0</td>\n",
       "      <td>Providencia</td>\n",
       "      <td>28</td>\n",
       "    </tr>\n",
       "    <tr>\n",
       "      <th>3</th>\n",
       "      <td>-70.597236</td>\n",
       "      <td>-33.431229</td>\n",
       "      <td>0106000020E61000000100000001030000000100000005...</td>\n",
       "      <td>86105</td>\n",
       "      <td>RC1</td>\n",
       "      <td>santiago_metro</td>\n",
       "      <td>0</td>\n",
       "      <td>Providencia</td>\n",
       "      <td>28</td>\n",
       "    </tr>\n",
       "    <tr>\n",
       "      <th>4</th>\n",
       "      <td>-70.628962</td>\n",
       "      <td>-33.441509</td>\n",
       "      <td>0106000020E61000000100000001030000000100000005...</td>\n",
       "      <td>93163</td>\n",
       "      <td>RC1</td>\n",
       "      <td>santiago_metro</td>\n",
       "      <td>0</td>\n",
       "      <td>Providencia</td>\n",
       "      <td>28</td>\n",
       "    </tr>\n",
       "    <tr>\n",
       "      <th>5</th>\n",
       "      <td>-70.596167</td>\n",
       "      <td>-33.430874</td>\n",
       "      <td>0106000020E61000000100000001030000000100000005...</td>\n",
       "      <td>86147</td>\n",
       "      <td>RC1</td>\n",
       "      <td>santiago_metro</td>\n",
       "      <td>0</td>\n",
       "      <td>Providencia</td>\n",
       "      <td>28</td>\n",
       "    </tr>\n",
       "    <tr>\n",
       "      <th>6</th>\n",
       "      <td>-70.597874</td>\n",
       "      <td>-33.431694</td>\n",
       "      <td>0106000020E61000000100000001030000000100000005...</td>\n",
       "      <td>86227</td>\n",
       "      <td>RC1</td>\n",
       "      <td>santiago_metro</td>\n",
       "      <td>0</td>\n",
       "      <td>Providencia</td>\n",
       "      <td>28</td>\n",
       "    </tr>\n",
       "    <tr>\n",
       "      <th>7</th>\n",
       "      <td>-70.604343</td>\n",
       "      <td>-33.424987</td>\n",
       "      <td>0106000020E61000000100000001030000000100000007...</td>\n",
       "      <td>89363</td>\n",
       "      <td>MUR1</td>\n",
       "      <td>santiago_metro</td>\n",
       "      <td>0</td>\n",
       "      <td>Providencia</td>\n",
       "      <td>28</td>\n",
       "    </tr>\n",
       "    <tr>\n",
       "      <th>8</th>\n",
       "      <td>-70.589224</td>\n",
       "      <td>-33.428552</td>\n",
       "      <td>0106000020E61000000100000001030000000100000005...</td>\n",
       "      <td>90658</td>\n",
       "      <td>MUR1</td>\n",
       "      <td>santiago_metro</td>\n",
       "      <td>0</td>\n",
       "      <td>Providencia</td>\n",
       "      <td>28</td>\n",
       "    </tr>\n",
       "    <tr>\n",
       "      <th>9</th>\n",
       "      <td>-70.601913</td>\n",
       "      <td>-33.434429</td>\n",
       "      <td>0106000020E61000000100000001030000000100000005...</td>\n",
       "      <td>88205</td>\n",
       "      <td>RC1</td>\n",
       "      <td>santiago_metro</td>\n",
       "      <td>0</td>\n",
       "      <td>Providencia</td>\n",
       "      <td>28</td>\n",
       "    </tr>\n",
       "    <tr>\n",
       "      <th>10</th>\n",
       "      <td>-70.596501</td>\n",
       "      <td>-33.431367</td>\n",
       "      <td>0106000020E61000000100000001030000000100000005...</td>\n",
       "      <td>86201</td>\n",
       "      <td>RC1</td>\n",
       "      <td>santiago_metro</td>\n",
       "      <td>0</td>\n",
       "      <td>Providencia</td>\n",
       "      <td>28</td>\n",
       "    </tr>\n",
       "    <tr>\n",
       "      <th>11</th>\n",
       "      <td>-70.589221</td>\n",
       "      <td>-33.428147</td>\n",
       "      <td>0106000020E61000000100000001030000000100000005...</td>\n",
       "      <td>87867</td>\n",
       "      <td>MUR1</td>\n",
       "      <td>santiago_metro</td>\n",
       "      <td>0</td>\n",
       "      <td>Providencia</td>\n",
       "      <td>28</td>\n",
       "    </tr>\n",
       "    <tr>\n",
       "      <th>12</th>\n",
       "      <td>-70.606244</td>\n",
       "      <td>-33.424331</td>\n",
       "      <td>0106000020E61000000100000001030000000100000005...</td>\n",
       "      <td>89187</td>\n",
       "      <td>MUR1</td>\n",
       "      <td>santiago_metro</td>\n",
       "      <td>0</td>\n",
       "      <td>Providencia</td>\n",
       "      <td>28</td>\n",
       "    </tr>\n",
       "    <tr>\n",
       "      <th>13</th>\n",
       "      <td>-70.605679</td>\n",
       "      <td>-33.427873</td>\n",
       "      <td>0106000020E61000000100000001030000000100000005...</td>\n",
       "      <td>86512</td>\n",
       "      <td>RC1</td>\n",
       "      <td>santiago_metro</td>\n",
       "      <td>0</td>\n",
       "      <td>Providencia</td>\n",
       "      <td>28</td>\n",
       "    </tr>\n",
       "    <tr>\n",
       "      <th>14</th>\n",
       "      <td>-70.606706</td>\n",
       "      <td>-33.431009</td>\n",
       "      <td>0106000020E61000000100000001030000000100000007...</td>\n",
       "      <td>86517</td>\n",
       "      <td>MUR1</td>\n",
       "      <td>santiago_metro</td>\n",
       "      <td>0</td>\n",
       "      <td>Providencia</td>\n",
       "      <td>28</td>\n",
       "    </tr>\n",
       "    <tr>\n",
       "      <th>15</th>\n",
       "      <td>-70.606869</td>\n",
       "      <td>-33.423981</td>\n",
       "      <td>0106000020E61000000100000001030000000100000005...</td>\n",
       "      <td>88779</td>\n",
       "      <td>MUR1</td>\n",
       "      <td>santiago_metro</td>\n",
       "      <td>0</td>\n",
       "      <td>Providencia</td>\n",
       "      <td>28</td>\n",
       "    </tr>\n",
       "    <tr>\n",
       "      <th>16</th>\n",
       "      <td>-70.596472</td>\n",
       "      <td>-33.436404</td>\n",
       "      <td>0106000020E61000000100000001030000000100000009...</td>\n",
       "      <td>89446</td>\n",
       "      <td>MUR1</td>\n",
       "      <td>santiago_metro</td>\n",
       "      <td>0</td>\n",
       "      <td>Providencia</td>\n",
       "      <td>28</td>\n",
       "    </tr>\n",
       "    <tr>\n",
       "      <th>17</th>\n",
       "      <td>-70.607777</td>\n",
       "      <td>-33.430814</td>\n",
       "      <td>0106000020E61000000100000001030000000100000007...</td>\n",
       "      <td>86394</td>\n",
       "      <td>RC1</td>\n",
       "      <td>santiago_metro</td>\n",
       "      <td>0</td>\n",
       "      <td>Providencia</td>\n",
       "      <td>28</td>\n",
       "    </tr>\n",
       "    <tr>\n",
       "      <th>18</th>\n",
       "      <td>-70.603641</td>\n",
       "      <td>-33.432287</td>\n",
       "      <td>0106000020E61000000100000001030000000100000005...</td>\n",
       "      <td>86712</td>\n",
       "      <td>RC1</td>\n",
       "      <td>santiago_metro</td>\n",
       "      <td>0</td>\n",
       "      <td>Providencia</td>\n",
       "      <td>28</td>\n",
       "    </tr>\n",
       "    <tr>\n",
       "      <th>19</th>\n",
       "      <td>-70.595822</td>\n",
       "      <td>-33.435376</td>\n",
       "      <td>0106000020E61000000100000001030000000100000005...</td>\n",
       "      <td>87071</td>\n",
       "      <td>MUR1</td>\n",
       "      <td>santiago_metro</td>\n",
       "      <td>0</td>\n",
       "      <td>Providencia</td>\n",
       "      <td>28</td>\n",
       "    </tr>\n",
       "    <tr>\n",
       "      <th>20</th>\n",
       "      <td>-70.603422</td>\n",
       "      <td>-33.432617</td>\n",
       "      <td>0106000020E61000000100000001030000000100000005...</td>\n",
       "      <td>88273</td>\n",
       "      <td>MUR1</td>\n",
       "      <td>santiago_metro</td>\n",
       "      <td>0</td>\n",
       "      <td>Providencia</td>\n",
       "      <td>28</td>\n",
       "    </tr>\n",
       "    <tr>\n",
       "      <th>21</th>\n",
       "      <td>-70.639828</td>\n",
       "      <td>-33.457277</td>\n",
       "      <td>0106000020E61000000100000001030000000100000006...</td>\n",
       "      <td>92062</td>\n",
       "      <td>MUR1</td>\n",
       "      <td>santiago_metro</td>\n",
       "      <td>0</td>\n",
       "      <td>Santiago</td>\n",
       "      <td>34</td>\n",
       "    </tr>\n",
       "    <tr>\n",
       "      <th>22</th>\n",
       "      <td>-70.578575</td>\n",
       "      <td>-33.425648</td>\n",
       "      <td>0106000020E61000000100000001030000000100000005...</td>\n",
       "      <td>86022</td>\n",
       "      <td>RC1</td>\n",
       "      <td>santiago_metro</td>\n",
       "      <td>0</td>\n",
       "      <td>Las Condes</td>\n",
       "      <td>43</td>\n",
       "    </tr>\n",
       "    <tr>\n",
       "      <th>23</th>\n",
       "      <td>-70.574754</td>\n",
       "      <td>-33.426986</td>\n",
       "      <td>0106000020E61000000100000001030000000100000005...</td>\n",
       "      <td>86643</td>\n",
       "      <td>MUR1</td>\n",
       "      <td>santiago_metro</td>\n",
       "      <td>0</td>\n",
       "      <td>Las Condes</td>\n",
       "      <td>43</td>\n",
       "    </tr>\n",
       "    <tr>\n",
       "      <th>24</th>\n",
       "      <td>-70.583739</td>\n",
       "      <td>-33.430933</td>\n",
       "      <td>0106000020E61000000100000001030000000100000005...</td>\n",
       "      <td>86658</td>\n",
       "      <td>MUR1</td>\n",
       "      <td>santiago_metro</td>\n",
       "      <td>0</td>\n",
       "      <td>Las Condes</td>\n",
       "      <td>43</td>\n",
       "    </tr>\n",
       "    <tr>\n",
       "      <th>25</th>\n",
       "      <td>-70.578831</td>\n",
       "      <td>-33.427897</td>\n",
       "      <td>0106000020E61000000100000001030000000100000005...</td>\n",
       "      <td>86611</td>\n",
       "      <td>RC1</td>\n",
       "      <td>santiago_metro</td>\n",
       "      <td>0</td>\n",
       "      <td>Las Condes</td>\n",
       "      <td>43</td>\n",
       "    </tr>\n",
       "    <tr>\n",
       "      <th>26</th>\n",
       "      <td>-70.597672</td>\n",
       "      <td>-33.418532</td>\n",
       "      <td>0106000020E61000000100000001030000000100000005...</td>\n",
       "      <td>86167</td>\n",
       "      <td>RC1</td>\n",
       "      <td>santiago_metro</td>\n",
       "      <td>0</td>\n",
       "      <td>Las Condes</td>\n",
       "      <td>43</td>\n",
       "    </tr>\n",
       "    <tr>\n",
       "      <th>27</th>\n",
       "      <td>-70.586737</td>\n",
       "      <td>-33.414512</td>\n",
       "      <td>0106000020E61000000100000001030000000100000005...</td>\n",
       "      <td>88353</td>\n",
       "      <td>MUR1</td>\n",
       "      <td>santiago_metro</td>\n",
       "      <td>0</td>\n",
       "      <td>Las Condes</td>\n",
       "      <td>43</td>\n",
       "    </tr>\n",
       "    <tr>\n",
       "      <th>28</th>\n",
       "      <td>-70.573092</td>\n",
       "      <td>-33.429788</td>\n",
       "      <td>0106000020E61000000100000001030000000100000005...</td>\n",
       "      <td>88058</td>\n",
       "      <td>RC1</td>\n",
       "      <td>santiago_metro</td>\n",
       "      <td>0</td>\n",
       "      <td>Las Condes</td>\n",
       "      <td>43</td>\n",
       "    </tr>\n",
       "  </tbody>\n",
       "</table>\n",
       "</div>"
      ],
      "text/plain": [
       "          lon        lat                                           the_geom  \\\n",
       "0  -70.603429 -33.433007  0106000020E61000000100000001030000000100000005...   \n",
       "1  -70.607311 -33.431156  0106000020E61000000100000001030000000100000007...   \n",
       "2  -70.598028 -33.431335  0106000020E61000000100000001030000000100000005...   \n",
       "3  -70.597236 -33.431229  0106000020E61000000100000001030000000100000005...   \n",
       "4  -70.628962 -33.441509  0106000020E61000000100000001030000000100000005...   \n",
       "5  -70.596167 -33.430874  0106000020E61000000100000001030000000100000005...   \n",
       "6  -70.597874 -33.431694  0106000020E61000000100000001030000000100000005...   \n",
       "7  -70.604343 -33.424987  0106000020E61000000100000001030000000100000007...   \n",
       "8  -70.589224 -33.428552  0106000020E61000000100000001030000000100000005...   \n",
       "9  -70.601913 -33.434429  0106000020E61000000100000001030000000100000005...   \n",
       "10 -70.596501 -33.431367  0106000020E61000000100000001030000000100000005...   \n",
       "11 -70.589221 -33.428147  0106000020E61000000100000001030000000100000005...   \n",
       "12 -70.606244 -33.424331  0106000020E61000000100000001030000000100000005...   \n",
       "13 -70.605679 -33.427873  0106000020E61000000100000001030000000100000005...   \n",
       "14 -70.606706 -33.431009  0106000020E61000000100000001030000000100000007...   \n",
       "15 -70.606869 -33.423981  0106000020E61000000100000001030000000100000005...   \n",
       "16 -70.596472 -33.436404  0106000020E61000000100000001030000000100000009...   \n",
       "17 -70.607777 -33.430814  0106000020E61000000100000001030000000100000007...   \n",
       "18 -70.603641 -33.432287  0106000020E61000000100000001030000000100000005...   \n",
       "19 -70.595822 -33.435376  0106000020E61000000100000001030000000100000005...   \n",
       "20 -70.603422 -33.432617  0106000020E61000000100000001030000000100000005...   \n",
       "21 -70.639828 -33.457277  0106000020E61000000100000001030000000100000006...   \n",
       "22 -70.578575 -33.425648  0106000020E61000000100000001030000000100000005...   \n",
       "23 -70.574754 -33.426986  0106000020E61000000100000001030000000100000005...   \n",
       "24 -70.583739 -33.430933  0106000020E61000000100000001030000000100000005...   \n",
       "25 -70.578831 -33.427897  0106000020E61000000100000001030000000100000005...   \n",
       "26 -70.597672 -33.418532  0106000020E61000000100000001030000000100000005...   \n",
       "27 -70.586737 -33.414512  0106000020E61000000100000001030000000100000005...   \n",
       "28 -70.573092 -33.429788  0106000020E61000000100000001030000000100000005...   \n",
       "\n",
       "      gid btype         name_b0  id_b0      name_b1  id_b1  \n",
       "0   87975   RC1  santiago_metro      0  Providencia     28  \n",
       "1   88686  MUR1  santiago_metro      0  Providencia     28  \n",
       "2   86075   RC1  santiago_metro      0  Providencia     28  \n",
       "3   86105   RC1  santiago_metro      0  Providencia     28  \n",
       "4   93163   RC1  santiago_metro      0  Providencia     28  \n",
       "5   86147   RC1  santiago_metro      0  Providencia     28  \n",
       "6   86227   RC1  santiago_metro      0  Providencia     28  \n",
       "7   89363  MUR1  santiago_metro      0  Providencia     28  \n",
       "8   90658  MUR1  santiago_metro      0  Providencia     28  \n",
       "9   88205   RC1  santiago_metro      0  Providencia     28  \n",
       "10  86201   RC1  santiago_metro      0  Providencia     28  \n",
       "11  87867  MUR1  santiago_metro      0  Providencia     28  \n",
       "12  89187  MUR1  santiago_metro      0  Providencia     28  \n",
       "13  86512   RC1  santiago_metro      0  Providencia     28  \n",
       "14  86517  MUR1  santiago_metro      0  Providencia     28  \n",
       "15  88779  MUR1  santiago_metro      0  Providencia     28  \n",
       "16  89446  MUR1  santiago_metro      0  Providencia     28  \n",
       "17  86394   RC1  santiago_metro      0  Providencia     28  \n",
       "18  86712   RC1  santiago_metro      0  Providencia     28  \n",
       "19  87071  MUR1  santiago_metro      0  Providencia     28  \n",
       "20  88273  MUR1  santiago_metro      0  Providencia     28  \n",
       "21  92062  MUR1  santiago_metro      0     Santiago     34  \n",
       "22  86022   RC1  santiago_metro      0   Las Condes     43  \n",
       "23  86643  MUR1  santiago_metro      0   Las Condes     43  \n",
       "24  86658  MUR1  santiago_metro      0   Las Condes     43  \n",
       "25  86611   RC1  santiago_metro      0   Las Condes     43  \n",
       "26  86167   RC1  santiago_metro      0   Las Condes     43  \n",
       "27  88353  MUR1  santiago_metro      0   Las Condes     43  \n",
       "28  88058   RC1  santiago_metro      0   Las Condes     43  "
      ]
     },
     "execution_count": 11,
     "metadata": {},
     "output_type": "execute_result"
    }
   ],
   "source": [
    "tt"
   ]
  },
  {
   "cell_type": "code",
   "execution_count": 12,
   "metadata": {},
   "outputs": [
    {
     "data": {
      "text/plain": [
       "name_b0         name_b1      btype\n",
       "santiago_metro  Las Condes   RC1       4\n",
       "                             MUR1      3\n",
       "                Providencia  RC1      11\n",
       "                             MUR1     10\n",
       "                Santiago     MUR1      1\n",
       "Name: btype, dtype: int64"
      ]
     },
     "execution_count": 12,
     "metadata": {},
     "output_type": "execute_result"
    }
   ],
   "source": [
    "tt.groupby(['name_b0','name_b1'])['btype'].value_counts()"
   ]
  },
  {
   "cell_type": "code",
   "execution_count": null,
   "metadata": {
    "collapsed": true
   },
   "outputs": [],
   "source": []
  },
  {
   "cell_type": "code",
   "execution_count": null,
   "metadata": {
    "collapsed": true
   },
   "outputs": [],
   "source": []
  },
  {
   "cell_type": "code",
   "execution_count": null,
   "metadata": {
    "collapsed": true
   },
   "outputs": [],
   "source": []
  },
  {
   "cell_type": "code",
   "execution_count": null,
   "metadata": {
    "collapsed": true
   },
   "outputs": [],
   "source": []
  },
  {
   "cell_type": "code",
   "execution_count": null,
   "metadata": {
    "collapsed": true
   },
   "outputs": [],
   "source": []
  },
  {
   "cell_type": "code",
   "execution_count": 146,
   "metadata": {
    "collapsed": true
   },
   "outputs": [],
   "source": []
  },
  {
   "cell_type": "markdown",
   "metadata": {},
   "source": [
    "\n"
   ]
  },
  {
   "cell_type": "code",
   "execution_count": 158,
   "metadata": {
    "collapsed": true
   },
   "outputs": [],
   "source": [
    "\n"
   ]
  },
  {
   "cell_type": "markdown",
   "metadata": {},
   "source": [
    "\n"
   ]
  },
  {
   "cell_type": "code",
   "execution_count": null,
   "metadata": {
    "collapsed": true
   },
   "outputs": [],
   "source": [
    "\n"
   ]
  },
  {
   "cell_type": "markdown",
   "metadata": {},
   "source": [
    "\n"
   ]
  },
  {
   "cell_type": "code",
   "execution_count": null,
   "metadata": {
    "collapsed": true
   },
   "outputs": [],
   "source": [
    "\n"
   ]
  },
  {
   "cell_type": "code",
   "execution_count": null,
   "metadata": {
    "collapsed": true
   },
   "outputs": [],
   "source": [
    "\n"
   ]
  },
  {
   "cell_type": "markdown",
   "metadata": {},
   "source": [
    "## ... and write back the processed data into the database"
   ]
  },
  {
   "cell_type": "code",
   "execution_count": 168,
   "metadata": {
    "collapsed": true
   },
   "outputs": [],
   "source": [
    "#sql query to join the processed table with the information in the rrvs database\n",
    "sqltempquery = Template('drop table if exists $tablename;\\\n",
    "create table $tablename as \\\n",
    "select v.*, p.btype \\\n",
    "from asset.ve_object v inner join $tablename_tmp p \\\n",
    "on v.object_id = p.object_id;\\\n",
    "drop table if exists $tablename_tmp;')\n",
    "\n",
    "# function to export the processed building information to the database\n",
    "def export_database(df, tablename):\n",
    "    sql_pars=dict(tablename ='{}'.format(tablename),\n",
    "                  tablename_tmp = '{}_tmp'.format(tablename))\n",
    "    engine.execute(text(\"drop table if exists {};\".format(sql_pars['tablename_tmp'])))\n",
    "    df.to_sql(sql_pars['tablename_tmp'],engine)\n",
    "    t = sqltempquery.substitute(sql_pars)\n",
    "    engine.execute(text(t))\n",
    "\n",
    "# create the processed table in the public schema of the database\n",
    "export_database(expo_df,'proc_expo')"
   ]
  },
  {
   "cell_type": "markdown",
   "metadata": {},
   "source": [
    "##Exercise\n",
    "The resulting model can now be queried from the database and mapped using QGIS. Try this out!\n",
    "\n"
   ]
  },
  {
   "cell_type": "code",
   "execution_count": null,
   "metadata": {
    "collapsed": true
   },
   "outputs": [],
   "source": []
  },
  {
   "cell_type": "code",
   "execution_count": null,
   "metadata": {
    "collapsed": true
   },
   "outputs": [],
   "source": []
  }
 ],
 "metadata": {
  "kernelspec": {
   "display_name": "Python 2",
   "language": "python",
   "name": "python2"
  },
  "language_info": {
   "codemirror_mode": {
    "name": "ipython",
    "version": 2
   },
   "file_extension": ".py",
   "mimetype": "text/x-python",
   "name": "python",
   "nbconvert_exporter": "python",
   "pygments_lexer": "ipython2",
   "version": "2.7.12"
  }
 },
 "nbformat": 4,
 "nbformat_minor": 1
}
