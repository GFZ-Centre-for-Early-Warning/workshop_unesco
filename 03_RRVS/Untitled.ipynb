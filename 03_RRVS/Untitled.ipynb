{
 "cells": [
  {
   "cell_type": "markdown",
   "metadata": {},
   "source": [
    "# Setting up a Google Based Remote Visual Screening System\n",
    "\n",
    "## Install the GRVS flavor of the RRVS system\n",
    "\n",
    "This is described in detail in the [REM installation manual](https://github.com/GFZ-Centre-for-Early-Warning/workshop_unesco)\n",
    "\n",
    "## Writing OSM building footprints \n",
    "\n"
   ]
  },
  {
   "cell_type": "code",
   "execution_count": null,
   "metadata": {
    "collapsed": true
   },
   "outputs": [],
   "source": []
  }
 ],
 "metadata": {
  "kernelspec": {
   "display_name": "R",
   "language": "R",
   "name": "ir"
  },
  "language_info": {
   "codemirror_mode": "r",
   "file_extension": ".r",
   "mimetype": "text/x-r-source",
   "name": "R",
   "pygments_lexer": "r",
   "version": "3.4.0"
  }
 },
 "nbformat": 4,
 "nbformat_minor": 2
}
