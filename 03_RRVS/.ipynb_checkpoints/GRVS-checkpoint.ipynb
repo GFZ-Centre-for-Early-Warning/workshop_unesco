{
 "cells": [
  {
   "cell_type": "markdown",
   "metadata": {},
   "source": [
    "# Setting up a Google Based Remote Visual Screening System\n",
    "\n",
    "## Install the GRVS flavor of the RRVS system\n",
    "\n",
    "This is described in detail in the [REM installation manual](https://github.com/GFZ-Centre-for-Early-Warning/workshop_unesco)\n",
    "\n",
    "## Create a survey\n",
    "\n",
    "## Writing OSM building footprints\n",
    "\n",
    "Write building footprints "
   ]
  },
  {
   "cell_type": "code",
   "execution_count": null,
   "metadata": {
    "collapsed": true
   },
   "outputs": [],
   "source": [
    "###############################################\n",
    "# Script that creates an SQL script to write\n",
    "# footprints from a shapefile to a REM database\n",
    "# Author: M.Haas mhaas@gfz-potsdam.de\n",
    "# input: 1) shapefile with footprints\n",
    "#        2) name of survey in REM db for which\n",
    "#           these footprints should be used\n",
    "#        3) optionally: source of footprints\n",
    "# output: sql file\n",
    "#############################\n",
    "import os\n",
    "\n",
    "shapefile = '/home/sysop/Desktop/lima_buildings.shp'\n",
    "sql_out = 'fp2rem.sql'\n",
    "source = 'OSM'\n",
    "survey_name='lima_google_2017'\n",
    "\n",
    "#create a table with the shapefile layer containing postgis geometry\n",
    "cmd = \"shp2pgsql -s 4326 -g the_geom {} temporary_footprint_data > {}\".format(shapefile,sql_out)\n",
    "os.system(cmd)\n",
    "\n",
    "#write inserts in ve_objects for each row in sql_out\n",
    "query=\"INSERT INTO asset.ve_object (survey_gid, source, the_geom, mat_type, mat_tech, mat_prop, llrs, llrs_duct, height, height2, yr_built, occupy, occupy_dt, position, plan_shape, str_irreg, str_irreg_dt, str_irreg_type,str_irreg_2,str_irreg_dt_2,str_irreg_type_2, nonstrcexw, roof_shape, roofcovmat, roofsysmat, roofsystyp, roof_conn, floor_mat, floor_type, floor_conn, foundn_sys, vuln,rrvs_status,height_1,height2_1,year_1) SELECT\n",
    "survey.survey.gid,'{}',temporary_footprint_data.the_geom,'MAT99','MATT99', 'MO99', 'L99', 'DU99', 'H99', 'HB99','Y99', 'OC99', 'OCCDT99','BP99','PLF99','IR99', 'IRP99', 'IRT99','IRRE','IRPS','IRN','EW99','R99', 'RMT99', 'RSM99', 'RST99', 'RCN99', 'F99', 'FT99', 'FWC99', 'FOS99','V99','UNMODIFIED', 99, 99, 99 FROM temporary_footprint_data,survey.survey WHERE survey.survey.name='{}';\".format(source,survey_name)\n",
    "\n",
    "with open(sql_out,'a') as f:\n",
    "    f.write(query)\n",
    "    query = \"DROP TABLE temporary_footprint_data\"\n",
    "    f.write(query)"
   ]
  }
 ],
 "metadata": {
  "kernelspec": {
   "display_name": "Python 2",
   "language": "python",
   "name": "python2"
  },
  "language_info": {
   "codemirror_mode": {
    "name": "ipython",
    "version": 2
   },
   "file_extension": ".py",
   "mimetype": "text/x-python",
   "name": "python",
   "nbconvert_exporter": "python",
   "pygments_lexer": "ipython2",
   "version": "2.7.12"
  }
 },
 "nbformat": 4,
 "nbformat_minor": 2
}
