{
 "cells": [
  {
   "cell_type": "markdown",
   "metadata": {
    "collapsed": true
   },
   "source": [
    "# pgRouting 2: Routing\n",
    "\n",
    "In this exercise we are going to cover the following topics:\n",
    "1. How to create a routable streetnetwork from preprocessed OpenStreetMap data.\n",
    "2. How to create route stops from sample points.\n",
    "3. How to solve the Travelling Salesman Problem (TSP) to visit the route stops in a cost efficient order.\n",
    "4. How to compute the shortest path via all ordered route stops.\n",
    "\n",
    "We will need the following software for this exercise:\n",
    "1. PostgreSQL >9.1 with PostGIS >2.0 and pgRouting >2.4 extensions\n",
    "\n",
    "We will need the following datasets in a PostgreSQL database for this exercise: \n",
    "1. Preprocessed OpenStreetMap street data (see \"pgRouting 1: Data preparation\").\n",
    "2. Sample points (see \"???\").\n",
    "\n",
    "Note: In this exercise we will execute SQL commands from within Python for convenience. You can also extract the SQL strings and run them directly through pgsql.\n",
    "\n",
    "Author: Marc Wieland\n",
    "Last modified: 10.05.2017"
   ]
  },
  {
   "cell_type": "markdown",
   "metadata": {
    "collapsed": true
   },
   "source": [
    "## Connect to database"
   ]
  },
  {
   "cell_type": "code",
   "execution_count": 1,
   "metadata": {
    "collapsed": true
   },
   "outputs": [],
   "source": [
    "import db\n",
    "\n",
    "# connect to database\n",
    "dbconn = db.Db(\"host='localhost' dbname='osmrouting_test' user='postgres' password='postgres'\")"
   ]
  },
  {
   "cell_type": "markdown",
   "metadata": {},
   "source": [
    "First we need to connect to the database that we have created in the previous exercise (\"pgRouting 1: Data preparation\")."
   ]
  },
  {
   "cell_type": "markdown",
   "metadata": {},
   "source": [
    "## Create a routable streetnetwork from preprocessed OpenStreetMap data"
   ]
  },
  {
   "cell_type": "code",
   "execution_count": 3,
   "metadata": {},
   "outputs": [],
   "source": [
    "# filter OpenStreetMap street data by tags on road type (this should give only car roads)\n",
    "#dbconn.query(\"ALTER TABLE osm_streets ALTER COLUMN gid TYPE bigint;\")\n",
    "dbconn.query(\"\"\"SELECT * INTO routing.osm_streets FROM public.santiago_roads WHERE\n",
    "                    fclass = 'motorway' OR \n",
    "                    fclass = 'motorway_link' OR \n",
    "                    fclass = 'primary' OR \n",
    "                    fclass = 'primary_link' OR \n",
    "                    fclass = 'primary;primary' OR \n",
    "                    fclass = 'residential' OR \n",
    "                    fclass = 'road' OR \n",
    "                    fclass = 'secondary' OR \n",
    "                    fclass = 'secondary_link' OR \n",
    "                    fclass = 'tertiary' OR \n",
    "                    fclass = 'tertiary_link' OR \n",
    "                    fclass = 'unclassified' OR \n",
    "                    fclass ='living_street' OR\n",
    "                    fclass= 'trunk' OR \n",
    "                    fclass = 'trunk_link';\"\"\")\n",
    "\n",
    "\n",
    "# add id, primary key, index and cluster analyze for faster spatial queries\n",
    "dbconn.query(\"ALTER TABLE routing.osm_streets ADD COLUMN id integer;\")\n",
    "dbconn.query(\"UPDATE routing.osm_streets SET id=gid;\")\n",
    "dbconn.query(\"ALTER TABLE routing.osm_streets ADD PRIMARY KEY (gid);\")\n",
    "dbconn.query(\"CREATE INDEX osm_streets_gix ON routing.osm_streets USING GIST (geom);\")\n",
    "dbconn.query(\"CLUSTER routing.osm_streets USING osm_streets_gix;\")\n",
    "dbconn.query(\"ANALYZE routing.osm_streets;\")"
   ]
  },
  {
   "cell_type": "markdown",
   "metadata": {},
   "source": [
    "The code above selects all records in our streets table that are marked with tags that refer to roads which can be accessed with a car. This effectively filters out footpaths, cycle lanes or any other street types that can not be accessed with a car. A comprehensive list of OpenStreetMap tags and background on the how the OpenStreetMap tagging system works can be found here: https://taginfo.openstreetmap.org"
   ]
  },
  {
   "cell_type": "code",
   "execution_count": 4,
   "metadata": {
    "collapsed": true
   },
   "outputs": [],
   "source": [
    "# create routable street network (note: this can take several minutes for large datasets)\n",
    "dbconn.queryRes(\"SELECT * FROM pgr_createnetwork('routing.osm_streets');\")\n",
    "\n",
    "# rename table\n",
    "dbconn.query(\"ALTER TABLE routing.osm_streets_vertices_pgr RENAME COLUMN the_geom TO geom;\")"
   ]
  },
  {
   "cell_type": "markdown",
   "metadata": {},
   "source": [
    "The code above creates a routable street network. This involves a number of processing steps convenientaly wrapped into the custom *pgr_createnetwork()* function. \n",
    "\n",
    "First, we have to make sure that the data provides a correct network topology, which consists of information about **source and target ID of each street edge**. Thus, the function adds *source* and *target* columns for each street edge. \n",
    "\n",
    "Second, we need a **cost attribute** that defines the cost of travelling any given street edge. The function adds a *cost* column and calculates as default cost attribute the length of each street edge (in meters).\n",
    "\n",
    "Third, we need to build a **network topology** for our street data. This means is that for any given edge in the street data the ends of that edge will be connected to a unique node and to other edges that are also connected to that same unique node. Once all the edges are connected to nodes we have a graph that can be used for routing with pgrouting. The pgRouting network topology is represented by an edge table (the *osm_streets* table with source, target and cost attributes) and a vertices table associated with it (created on the fly)."
   ]
  },
  {
   "cell_type": "markdown",
   "metadata": {
    "collapsed": true
   },
   "source": [
    "## Create route stops from sample points."
   ]
  },
  {
   "cell_type": "code",
   "execution_count": 6,
   "metadata": {},
   "outputs": [],
   "source": [
    "# rename geometry column if generated by OGR driver\n",
    "#dbconn.query(\"ALTER TABLE public.samples_pps50 RENAME COLUMN wkb_geometry TO geom;\")\n",
    "\n",
    "# create route stops from sample points\n",
    "dbconn.queryRes(\"SELECT * FROM pgr_createroutestops('routing.osm_streets_vertices_pgr', 'public.samples_pps50', 50);\")\n",
    "\n",
    "# rename table, add primary key and index\n",
    "dbconn.query(\"ALTER TABLE routing.route_stops RENAME TO samples_pps50;\")\n",
    "dbconn.query(\"ALTER TABLE routing.samples_pps50 ADD PRIMARY KEY (id);\")\n",
    "dbconn.query(\"CREATE INDEX samples_pps50_gix ON routing.samples_pps50 USING GIST (geom);\")"
   ]
  },
  {
   "cell_type": "markdown",
   "metadata": {},
   "source": [
    "The code above creates route stops from sample points. The custom *pgr_createroutestops()* function selects the nearest node to any sample point on the street network and deletes any duplicate nodes from the table, since it can happen that several sample points have the same nearest node."
   ]
  },
  {
   "cell_type": "markdown",
   "metadata": {},
   "source": [
    "## Solve the Travelling Salesman Problem (TSP) to visit the route stops in a cost efficient order."
   ]
  },
  {
   "cell_type": "code",
   "execution_count": 7,
   "metadata": {
    "collapsed": true
   },
   "outputs": [],
   "source": [
    "# order route stops using TSP\n",
    "dbconn.query(\"\"\"SELECT a.seq, a.agg_cost, b.* INTO routing.samples_pps50_tsp FROM pgr_tsp(\n",
    "                    $$\n",
    "                    SELECT * FROM pgr_dijkstraCostMatrix(\n",
    "                        'SELECT id, source, target, cost, reverse_cost FROM routing.osm_streets', \n",
    "                        (SELECT array_agg(node) FROM routing.samples_pps50), \n",
    "                        directed := false\n",
    "                    )\n",
    "                    $$,\n",
    "                    start_id := 86246,\n",
    "                    randomize := false\n",
    "                ) a LEFT JOIN routing.samples_pps50 b ON (a.node = b.node);\"\"\")"
   ]
  },
  {
   "cell_type": "markdown",
   "metadata": {},
   "source": [
    "The **Travelling Salesperson Problem (TSP)** asks the question\n",
    "\n",
    "*\"Given a list of cities and the distances between each pair of cities, what is the shortest possible route that visits each city exactly once and returns to the origin city?\"*\n",
    "\n",
    "The code above orders the route stops so that a traveller visits all the nodes exactly once in a cost optimized way. The pgRouting implementation *pgr_tsp()* uses simulated annealing to return the approximate solution when the input is given in the form of matrix cell contents. This means that it needs as input a **cost matrix**, which in our case is calculated using the *pgr_dijkstraCostMatrix()* function with the cost attribute being the length of each street edge (as calculated previously). Optionally a start point (*start_id*) can be defined. This is the ID of the node from which the route shall start."
   ]
  },
  {
   "cell_type": "markdown",
   "metadata": {},
   "source": [
    "# 4. Compute the shortest path via all ordered route stops."
   ]
  },
  {
   "cell_type": "code",
   "execution_count": null,
   "metadata": {
    "collapsed": true
   },
   "outputs": [],
   "source": [
    "# compute shortest path across all ordered route stops\n",
    "dbconn.queryRes(\"SELECT * FROM pgr_dijkstramulti('routing.samples_pps50_tsp', 'routing.osm_streets');\")\n",
    "\n",
    "# rename table, add primary key and index\n",
    "dbconn.query(\"ALTER TABLE routing.route_dijkstramulti RENAME TO samples_pps50_tsp_route;\")\n",
    "dbconn.query(\"ALTER TABLE routing.samples_pps50_tsp_route ADD COLUMN gid serial;\")\n",
    "dbconn.query(\"ALTER TABLE routing.samples_pps50_tsp_route ADD PRIMARY KEY (gid);\")\n",
    "dbconn.query(\"CREATE INDEX samples_pps50_tsp_route_gix ON routing.samples_pps50_tsp_route USING GIST (geom);\")"
   ]
  },
  {
   "cell_type": "markdown",
   "metadata": {},
   "source": [
    "The code above returns the shortest path via all ordered route stops using the **Dijkstra algorithm**. Dijkstra’s algorithm, conceived by Dutch computer scientist Edsger Dijkstra in 1956, is a graph search algorithm that solves the shortest path problem for a graph with non-negative edge path costs, producing a shortest path from a starting vertex (start_vid) to an ending vertex (end_vid). In our case need to return the shortest path multiple times between each pair of succeeding vertices along the ordered sequence of ordered route stops."
   ]
  },
  {
   "cell_type": "code",
   "execution_count": 12,
   "metadata": {
    "collapsed": true
   },
   "outputs": [],
   "source": [
    "# close database connection\n",
    "del dbconn"
   ]
  },
  {
   "cell_type": "markdown",
   "metadata": {},
   "source": [
    "Finally we close the database connection."
   ]
  }
 ],
 "metadata": {
  "kernelspec": {
   "display_name": "Python 2",
   "language": "python",
   "name": "python2"
  },
  "language_info": {
   "codemirror_mode": {
    "name": "ipython",
    "version": 2
   },
   "file_extension": ".py",
   "mimetype": "text/x-python",
   "name": "python",
   "nbconvert_exporter": "python",
   "pygments_lexer": "ipython2",
   "version": "2.7.12"
  }
 },
 "nbformat": 4,
 "nbformat_minor": 2
}
