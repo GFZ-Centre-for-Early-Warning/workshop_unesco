{
 "cells": [
  {
   "cell_type": "markdown",
   "metadata": {},
   "source": [
    " ![logo][gfzlogo]\n",
    " \n",
    " #   ENHANS -   Exposure modelling Workshop   -  May 2017\n",
    " \n",
    " ---\n",
    " \n",
    " \n",
    " ## 5.2 - Exposure Modelling\n",
    " \n",
    " \n",
    " ---\n",
    "\n",
    " \n",
    "\n",
    "\n",
    "[gfzlogo]:gfz_logo2.jpg"
   ]
  },
  {
   "cell_type": "markdown",
   "metadata": {},
   "source": [
    "## language: Python 2.7\n",
    "\n",
    "### first: Load packages"
   ]
  },
  {
   "cell_type": "code",
   "execution_count": 2,
   "metadata": {
    "collapsed": true
   },
   "outputs": [],
   "source": [
    "import sys\n",
    "import os\n",
    "import pandas as pd\n",
    "import numpy as np\n",
    "from string import Template\n",
    "import matplotlib.pyplot as plt\n",
    "%matplotlib inline\n",
    "#from lxml import etree\n",
    "from sqlalchemy import create_engine\n",
    "from sqlalchemy.sql import text\n",
    "\n",
    "#used by the nrml \n",
    "NAMESPACE = 'http://openquake.org/xmlns/nrml/0.5'\n",
    "GML_NAMESPACE = 'http://www.opengis.net/gml'\n",
    "SERIALIZE_NS_MAP = {None: NAMESPACE, 'gml': GML_NAMESPACE}\n"
   ]
  },
  {
   "cell_type": "markdown",
   "metadata": {
    "collapsed": false
   },
   "source": [
    "# Query of building data from the database\n",
    "\n",
    "the data is fetched from the database (either local or from remote) using a SQL query. \n",
    "\n",
    "In our case we retrieve the following information:\n",
    "\n",
    "- latitude (of the centroid of the building)\n",
    "- longitude (of the centroid of the building)\n",
    "- ID of the building (same as used in the RRVS interface)\n",
    "- Building type (estimated)\n",
    "\n",
    "We suppose that the building type has therefore already been assigned in a previous processing phase \n",
    "\n",
    "##Exercise\n",
    "- Are we querying all available data?"
   ]
  },
  {
   "cell_type": "code",
   "execution_count": 3,
   "metadata": {
    "collapsed": false
   },
   "outputs": [],
   "source": [
    "# database connection\n",
    "engine = create_engine('postgresql://postgres@localhost:5432/rem')\n",
    "\n",
    "# query to the database\n",
    "def get_proc_expo(engine,tablename):\n",
    "    \n",
    "    sql = \"\"\"\n",
    "    select \n",
    "    st_x(st_transform(st_centroid(v.the_geom),4326)) lon,\n",
    "    st_y(st_transform(st_centroid(v.the_geom),4326)) lat,\n",
    "    v.gid,\n",
    "    v.btype\n",
    "    from {} v;\"\"\".format(tablename)\n",
    "\n",
    "    t=pd.read_sql_query(sql,con=engine)\n",
    "    return t\n",
    "\n",
    "#test\n",
    "tt = get_proc_expo(engine,'proc_expo')"
   ]
  },
  {
   "cell_type": "markdown",
   "metadata": {},
   "source": [
    "## Let us model the building frequencies with a Dirichelet / multinomial distribution"
   ]
  },
  {
   "cell_type": "code",
   "execution_count": 21,
   "metadata": {
    "collapsed": false
   },
   "outputs": [
    {
     "data": {
      "text/html": [
       "<div>\n",
       "<table border=\"1\" class=\"dataframe\">\n",
       "  <thead>\n",
       "    <tr style=\"text-align: right;\">\n",
       "      <th></th>\n",
       "      <th>0</th>\n",
       "      <th>1</th>\n",
       "      <th>2</th>\n",
       "    </tr>\n",
       "  </thead>\n",
       "  <tbody>\n",
       "    <tr>\n",
       "      <th>0</th>\n",
       "      <td>0.999139</td>\n",
       "      <td>1.425033e-34</td>\n",
       "      <td>8.610567e-04</td>\n",
       "    </tr>\n",
       "    <tr>\n",
       "      <th>1</th>\n",
       "      <td>0.997062</td>\n",
       "      <td>2.539511e-09</td>\n",
       "      <td>2.937578e-03</td>\n",
       "    </tr>\n",
       "    <tr>\n",
       "      <th>2</th>\n",
       "      <td>0.605848</td>\n",
       "      <td>1.061161e-05</td>\n",
       "      <td>3.941418e-01</td>\n",
       "    </tr>\n",
       "    <tr>\n",
       "      <th>3</th>\n",
       "      <td>0.999272</td>\n",
       "      <td>7.277248e-04</td>\n",
       "      <td>7.403025e-14</td>\n",
       "    </tr>\n",
       "    <tr>\n",
       "      <th>4</th>\n",
       "      <td>0.999886</td>\n",
       "      <td>6.259159e-24</td>\n",
       "      <td>1.138712e-04</td>\n",
       "    </tr>\n",
       "  </tbody>\n",
       "</table>\n",
       "</div>"
      ],
      "text/plain": [
       "          0             1             2\n",
       "0  0.999139  1.425033e-34  8.610567e-04\n",
       "1  0.997062  2.539511e-09  2.937578e-03\n",
       "2  0.605848  1.061161e-05  3.941418e-01\n",
       "3  0.999272  7.277248e-04  7.403025e-14\n",
       "4  0.999886  6.259159e-24  1.138712e-04"
      ]
     },
     "execution_count": 21,
     "metadata": {},
     "output_type": "execute_result"
    }
   ],
   "source": [
    "# available building types\n",
    "btypes = tt['btype'].unique()\n",
    "\n",
    "#observed frequencies\n",
    "bdist = tt['btype'].value_counts()/len(tt['btype'])\n",
    "\n",
    "shape = np.array(bdist).astype(float)\n",
    "\n",
    "# concentration parameter\n",
    "con_par=3\n",
    "\n",
    "# simulation of a Dirichlet process\n",
    "out = pd.DataFrame(np.random.dirichlet(shape*con_par,10000))\n",
    "\n",
    "#let´s have a look at some of the simulated distributions\n",
    "out.head()"
   ]
  },
  {
   "cell_type": "code",
   "execution_count": 13,
   "metadata": {
    "collapsed": true
   },
   "outputs": [],
   "source": [
    "#let´s define the average occupancy per building type\n",
    "\n",
    "occ={}\n",
    "occ['MUR1'] = 10\n",
    "occ['WOOD1']=7\n",
    "occ['RC1'] = 20"
   ]
  },
  {
   "cell_type": "code",
   "execution_count": 15,
   "metadata": {
    "collapsed": false
   },
   "outputs": [],
   "source": [
    "# let us define the total population in the considered area\n",
    "pop = 5000"
   ]
  },
  {
   "cell_type": "markdown",
   "metadata": {},
   "source": [
    "## define a function which is carrying out the disaggregation with a stochastic simulation"
   ]
  },
  {
   "cell_type": "code",
   "execution_count": 40,
   "metadata": {
    "collapsed": false
   },
   "outputs": [],
   "source": [
    "def estimate_bdg_num_dirichlet(pop,bdist,con_par = 11):\n",
    "    shape = np.array(bdist).astype(float)\n",
    "    \n",
    "    #simulate dirichlet distrib. on the cell\n",
    "    out = pd.DataFrame(np.random.dirichlet(shape*con_par,10000))\n",
    "    \n",
    "    out.columns = btypes\n",
    "    occs = [occ[tax] for tax in btypes]\n",
    "\n",
    "    nb=[]\n",
    "    for ind, row in out.iterrows():\n",
    "        nb.append(pop/sum(np.array(occs)*np.array(row)))\n",
    "        #nb.append(pop/sum(np.array(row.iloc[0])*occs))\n",
    "        \n",
    "    return pd.DataFrame([[int(np.average(nb)),int(np.std(nb)),int(np.min(nb)),int(np.max(nb)),\n",
    "int(np.percentile(nb,5)),int(np.percentile(nb,50)),int(np.percentile(nb,95))]],columns=['avg','stddev','min','max','q5','q50','q95'])\n",
    "\n",
    "\n",
    "#test\n",
    "#estimate_bdg_num_dirichlet(pop,bdist,3)"
   ]
  },
  {
   "cell_type": "markdown",
   "metadata": {},
   "source": [
    "## now we can compute the expected number of buildings in a probabilistic framework"
   ]
  },
  {
   "cell_type": "code",
   "execution_count": 38,
   "metadata": {
    "collapsed": false
   },
   "outputs": [
    {
     "name": "stdout",
     "output_type": "stream",
     "text": [
      "   avg  stddev  min  max   q5  q50  q95\n",
      "0  496      23  277  672  462  500  509\n"
     ]
    }
   ],
   "source": [
    "res = estimate_bdg_num_dirichlet(pop,bdist,3)\n",
    "print res\n"
   ]
  },
  {
   "cell_type": "code",
   "execution_count": 39,
   "metadata": {
    "collapsed": false
   },
   "outputs": [
    {
     "data": {
      "text/plain": [
       "(array([   28.,   221.,   821.,  2042.,  2883.,  2480.,  1174.,   297.,\n",
       "           49.,     5.]),\n",
       " array([ 414.98991773,  432.35576044,  449.72160316,  467.08744587,\n",
       "         484.45328858,  501.8191313 ,  519.18497401,  536.55081672,\n",
       "         553.91665944,  571.28250215,  588.64834487]),\n",
       " <a list of 10 Patch objects>)"
      ]
     },
     "execution_count": 39,
     "metadata": {},
     "output_type": "execute_result"
    },
    {
     "data": {
      "image/png": "[encoded data removed]",
      "text/plain": [
       "<matplotlib.figure.Figure at 0x512b850>"
      ]
     },
     "metadata": {},
     "output_type": "display_data"
    }
   ],
   "source": [
    "plt.hist(np.random.normal(res['avg'],res['stddev'],10000))"
   ]
  },
  {
   "cell_type": "markdown",
   "metadata": {},
   "source": [
    "---\n",
    "\n",
    "---"
   ]
  },
  {
   "cell_type": "markdown",
   "metadata": {},
   "source": [
    "# Using boundary data\n",
    "\n",
    "Boundary data provide a geographical support for aggregating the exposure model.\n",
    "\n",
    "Boundary data can be:\n",
    "- geographical (e.g. a continent, an isle)\n",
    "- administrative (e.g. political borders, regions, districts, postal codes)\n",
    "- abstract (geocell, regular grids)\n",
    "\n",
    "Moreover, boundary data can nest into each other, therefore providing a natural multi-resolution support.\n",
    "\n",
    "###How do we manage multiple boundary data in exposure modelling ?"
   ]
  },
  {
   "cell_type": "code",
   "execution_count": 41,
   "metadata": {
    "collapsed": false
   },
   "outputs": [],
   "source": [
    "# database connection\n",
    "engine = create_engine('postgresql://postgres@localhost:5432/exposure_wb')\n",
    "\n",
    "# query to the database, also include a list of table names specifying different boundary data layers.\n",
    "# each boundary layer must include a geometry the_geom, a name name_en and an id object_id. \n",
    "def get_exp_bd(engine, tablename,boundaries):\n",
    "    \n",
    "    boundaries_pa=''\n",
    "    boundaries_pb=''\n",
    "    boundaries_pc=''\n",
    "    \n",
    "    for i,b in enumerate(boundaries):\n",
    "        boundaries_pa += 'b{}.name_en name_b{},b{}.object_id id_b{},'.format(i,i,i,i)\n",
    "        boundaries_pb += '{} b{},'.format(b,i)\n",
    "        boundaries_pc += ' st_contains(b{}.the_geom,st_centroid(v.the_geom)) and'.format(i)\n",
    "    \n",
    "    sql = \"\"\"\n",
    "    select \n",
    "    st_x(st_transform(st_centroid(v.the_geom),4326)) lon,\n",
    "    st_y(st_transform(st_centroid(v.the_geom),4326)) lat,\n",
    "    v.the_geom,\n",
    "    v.gid,\n",
    "    v.e_bdgtype btype,\n",
    "    {}\n",
    "    from {} v, {} \n",
    "    where {}; \"\"\".format(boundaries_pa[:-1],tablename,boundaries_pb[:-1],boundaries_pc[:-3])\n",
    "    \n",
    "    #print sql\n",
    "    \n",
    "    t=pd.read_sql_query(sql,con=engine)\n",
    "    return t\n",
    "\n",
    "#test\n",
    "tt = get_exp_bd(engine,'bdgs_est2',['boundary0','boundary1','boundary2'])"
   ]
  },
  {
   "cell_type": "markdown",
   "metadata": {},
   "source": [
    "##Let us check how many different entries are present in each aggregation boundary. "
   ]
  },
  {
   "cell_type": "code",
   "execution_count": 46,
   "metadata": {
    "collapsed": false
   },
   "outputs": [
    {
     "data": {
      "text/plain": [
       "name_b0     name_b1       name_b2          btype\n",
       "kyrgyzstan  Batken        Batken-city      c4        52\n",
       "                                           c1.3       6\n",
       "                                           c2.4       2\n",
       "                                           c1.1       1\n",
       "                          Batkensky        c4       204\n",
       "                                           c1.3      28\n",
       "                                           c1.1       3\n",
       "                                           c6         1\n",
       "                          Kadamjaisky      c4       125\n",
       "                                           c1.3      17\n",
       "                                           c1.1       1\n",
       "                                           c2.1       1\n",
       "                          Kyzyl-Kiya-city  c4        62\n",
       "                                           c1.3      37\n",
       "                                           c3.1       2\n",
       "                                           c1.1       1\n",
       "                          Lyailyaksky      c4       229\n",
       "                                           c1.3      51\n",
       "                                           c1.1      12\n",
       "                                           c5.1       4\n",
       "                          Sulyukta-city    c4        34\n",
       "                                           c1.3      31\n",
       "                                           c1.1       5\n",
       "                                           c3.1       1\n",
       "            Bishkek-city  Leninsky         c1.3     134\n",
       "                                           c1.1      59\n",
       "                                           c4        44\n",
       "                                           c6         3\n",
       "                                           c2.3       2\n",
       "                                           c3.1       2\n",
       "                                                   ... \n",
       "            Issyk Kul     Tonsky           c1.1      10\n",
       "                                           c3.1       8\n",
       "                                           c5.1       4\n",
       "            Jalal-Abad    Jelal-Abad-city  c1.1      94\n",
       "                                           c4        52\n",
       "                                           c1.3       9\n",
       "                                           c2.1       5\n",
       "                                           c6         5\n",
       "                                           c3.3       1\n",
       "                          Suzaksky         c4       216\n",
       "                                           c1.1     149\n",
       "                                           c1.3      13\n",
       "                                           c2.1       3\n",
       "            Naryn         Kochkorsky       c4       195\n",
       "                                           c1.3      29\n",
       "                                           c1.1       2\n",
       "                          Naryn-city       c4       171\n",
       "                                           c1.3      48\n",
       "                                           c1.1      32\n",
       "            Osh           Kara-Suisky      c4       341\n",
       "                                           c1.1     168\n",
       "                                           c1.3       5\n",
       "                                           c2.1       3\n",
       "                                           c6         3\n",
       "                          Nookatsky        c4        35\n",
       "                                           c1.3       9\n",
       "                                           c2.1       2\n",
       "                                           c3.1       2\n",
       "            Osh-city      Kara-Suisky      c4         4\n",
       "                                           c1.1       1\n",
       "dtype: int64"
      ]
     },
     "execution_count": 46,
     "metadata": {},
     "output_type": "execute_result"
    }
   ],
   "source": [
    "tt.groupby(['name_b0','name_b1','name_b2'])['btype'].value_counts()"
   ]
  },
  {
   "cell_type": "code",
   "execution_count": null,
   "metadata": {
    "collapsed": false
   },
   "outputs": [],
   "source": []
  },
  {
   "cell_type": "code",
   "execution_count": null,
   "metadata": {
    "collapsed": false
   },
   "outputs": [],
   "source": []
  },
  {
   "cell_type": "markdown",
   "metadata": {},
   "source": []
  },
  {
   "cell_type": "code",
   "execution_count": null,
   "metadata": {
    "collapsed": false
   },
   "outputs": [],
   "source": []
  },
  {
   "cell_type": "markdown",
   "metadata": {},
   "source": []
  },
  {
   "cell_type": "code",
   "execution_count": 146,
   "metadata": {
    "collapsed": false
   },
   "outputs": [],
   "source": []
  },
  {
   "cell_type": "markdown",
   "metadata": {},
   "source": [
    "\n"
   ]
  },
  {
   "cell_type": "code",
   "execution_count": 158,
   "metadata": {
    "collapsed": false
   },
   "outputs": [],
   "source": [
    "\n"
   ]
  },
  {
   "cell_type": "markdown",
   "metadata": {},
   "source": [
    "\n"
   ]
  },
  {
   "cell_type": "code",
   "execution_count": null,
   "metadata": {
    "collapsed": false
   },
   "outputs": [],
   "source": [
    "\n"
   ]
  },
  {
   "cell_type": "markdown",
   "metadata": {},
   "source": [
    "\n"
   ]
  },
  {
   "cell_type": "code",
   "execution_count": null,
   "metadata": {
    "collapsed": false
   },
   "outputs": [],
   "source": [
    "\n"
   ]
  },
  {
   "cell_type": "code",
   "execution_count": null,
   "metadata": {
    "collapsed": false
   },
   "outputs": [],
   "source": [
    "\n"
   ]
  },
  {
   "cell_type": "markdown",
   "metadata": {
    "collapsed": false
   },
   "source": [
    "## ... and write back the processed data into the database"
   ]
  },
  {
   "cell_type": "code",
   "execution_count": 168,
   "metadata": {
    "collapsed": false
   },
   "outputs": [],
   "source": [
    "#sql query to join the processed table with the information in the rrvs database\n",
    "sqltempquery = Template('drop table if exists $tablename;\\\n",
    "create table $tablename as \\\n",
    "select v.*, p.btype \\\n",
    "from asset.ve_object v inner join $tablename_tmp p \\\n",
    "on v.object_id = p.object_id;\\\n",
    "drop table if exists $tablename_tmp;')\n",
    "\n",
    "# function to export the processed building information to the database\n",
    "def export_database(df, tablename):\n",
    "    sql_pars=dict(tablename ='{}'.format(tablename),\n",
    "                  tablename_tmp = '{}_tmp'.format(tablename))\n",
    "    engine.execute(text(\"drop table if exists {};\".format(sql_pars['tablename_tmp'])))\n",
    "    df.to_sql(sql_pars['tablename_tmp'],engine)\n",
    "    t = sqltempquery.substitute(sql_pars)\n",
    "    engine.execute(text(t))\n",
    "\n",
    "# create the processed table in the public schema of the database\n",
    "export_database(expo_df,'proc_expo')"
   ]
  },
  {
   "cell_type": "markdown",
   "metadata": {},
   "source": [
    "##Exercise\n",
    "The resulting model can now be queried from the database and mapped using QGIS. Try this out!\n",
    "\n"
   ]
  },
  {
   "cell_type": "code",
   "execution_count": null,
   "metadata": {
    "collapsed": false
   },
   "outputs": [],
   "source": []
  },
  {
   "cell_type": "code",
   "execution_count": null,
   "metadata": {
    "collapsed": false
   },
   "outputs": [],
   "source": []
  }
 ],
 "metadata": {
  "kernelspec": {
   "display_name": "Python 2",
   "language": "python",
   "name": "python2"
  },
  "language_info": {
   "codemirror_mode": {
    "name": "ipython",
    "version": 2
   },
   "file_extension": ".py",
   "mimetype": "text/x-python",
   "name": "python",
   "nbconvert_exporter": "python",
   "pygments_lexer": "ipython2",
   "version": "2.7.3"
  }
 },
 "nbformat": 4,
 "nbformat_minor": 0
}
